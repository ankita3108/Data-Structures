{
 "cells": [
  {
   "cell_type": "code",
   "execution_count": 1,
   "id": "77487a44",
   "metadata": {},
   "outputs": [],
   "source": [
    "import pandas as pd"
   ]
  },
  {
   "cell_type": "code",
   "execution_count": 23,
   "id": "499767be",
   "metadata": {},
   "outputs": [],
   "source": [
    "def max_heapify(arr,n,i):\n",
    "    largest = i ## root\n",
    "    left = i*2 +1\n",
    "    right = i*2 + 2\n",
    "    \n",
    "    ## Left Node greater than parent\n",
    "    if(left < n and arr[largest]<arr[left]):\n",
    "        largest = left\n",
    "    \n",
    "    ## Right Node greater than parent\n",
    "    if(right < n and arr[largest] < arr[right]):\n",
    "        largest = right\n",
    "    \n",
    "    ## If Largest element points to 1st position\n",
    "    if largest!=i:\n",
    "        arr[largest], arr[i] = arr[i], arr[largest]\n",
    "        \n",
    "        ## Applying Max Heap to all child Nodes\n",
    "        max_heapify(arr,n,largest)"
   ]
  },
  {
   "cell_type": "code",
   "execution_count": 24,
   "id": "0a283e0b",
   "metadata": {},
   "outputs": [],
   "source": [
    "arr = [2,66,30,5,9,10]\n",
    "n = len(arr)"
   ]
  },
  {
   "cell_type": "code",
   "execution_count": 9,
   "id": "8de6f421",
   "metadata": {},
   "outputs": [],
   "source": [
    "for i in range(n//2-1,-1,-1):\n",
    "    max_heapify(arr,n,i)"
   ]
  },
  {
   "cell_type": "code",
   "execution_count": 10,
   "id": "ef6f74c9",
   "metadata": {},
   "outputs": [
    {
     "data": {
      "text/plain": [
       "[66, 9, 30, 5, 2, 10]"
      ]
     },
     "execution_count": 10,
     "metadata": {},
     "output_type": "execute_result"
    }
   ],
   "source": [
    "## Max Heap Array\n",
    "arr"
   ]
  },
  {
   "cell_type": "code",
   "execution_count": 25,
   "id": "80e99bb0",
   "metadata": {},
   "outputs": [],
   "source": [
    "## Developing Soring algorithm using max heap\n",
    "\n",
    "def heapsort(arr):\n",
    "    for i in range(n-1,0,-1):\n",
    "        ##Swap first with largest in last cell\n",
    "        ## Assumes the \n",
    "        arr[i], arr[0] = arr[0], arr[i]\n",
    "        \n",
    "        ## Getting the maximum position\n",
    "        max_heapify(arr,i,0)"
   ]
  },
  {
   "cell_type": "code",
   "execution_count": 26,
   "id": "ee9b4571",
   "metadata": {},
   "outputs": [],
   "source": [
    "heapsort(arr)"
   ]
  },
  {
   "cell_type": "code",
   "execution_count": 22,
   "id": "5c04533c",
   "metadata": {},
   "outputs": [
    {
     "data": {
      "text/plain": [
       "[2, 5, 9, 10, 30, 66]"
      ]
     },
     "execution_count": 22,
     "metadata": {},
     "output_type": "execute_result"
    }
   ],
   "source": [
    "arr"
   ]
  },
  {
   "cell_type": "code",
   "execution_count": null,
   "id": "023be32f",
   "metadata": {},
   "outputs": [],
   "source": []
  }
 ],
 "metadata": {
  "kernelspec": {
   "display_name": "Python 3",
   "language": "python",
   "name": "python3"
  },
  "language_info": {
   "codemirror_mode": {
    "name": "ipython",
    "version": 3
   },
   "file_extension": ".py",
   "mimetype": "text/x-python",
   "name": "python",
   "nbconvert_exporter": "python",
   "pygments_lexer": "ipython3",
   "version": "3.8.8"
  }
 },
 "nbformat": 4,
 "nbformat_minor": 5
}
