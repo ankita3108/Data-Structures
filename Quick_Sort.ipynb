{
 "cells": [
  {
   "cell_type": "code",
   "execution_count": 1,
   "id": "04112010",
   "metadata": {},
   "outputs": [],
   "source": [
    "import pandas as pd"
   ]
  },
  {
   "cell_type": "code",
   "execution_count": 13,
   "id": "0aeef138",
   "metadata": {},
   "outputs": [],
   "source": [
    "def pivot_place(list1,first,last):\n",
    "    pivot = list1[first]\n",
    "    left = first+1\n",
    "    right = last\n",
    "    \n",
    "    while True:\n",
    "        while left<=right and list1[left] <= pivot:\n",
    "            left = left+1\n",
    "\n",
    "        while left<=right and list1[right] >= pivot:\n",
    "            right = right-1\n",
    "\n",
    "        if(right<left):\n",
    "            break\n",
    "\n",
    "        else:\n",
    "            list1[left], list1[right] = list1[right], list1[left]\n",
    "\n",
    "    list1[first], list1[right] = list1[right], list1[first]\n",
    "    \n",
    "    return(right)"
   ]
  },
  {
   "cell_type": "code",
   "execution_count": 14,
   "id": "64e25f69",
   "metadata": {},
   "outputs": [],
   "source": [
    "def quicksort(list1,first,last):\n",
    "    if(first<last):\n",
    "        p = pivot_place(list1,first,last)\n",
    "        quicksort(list1,first,p-1)\n",
    "        quicksort(list1,p+1,last)"
   ]
  },
  {
   "cell_type": "code",
   "execution_count": 15,
   "id": "50f051bf",
   "metadata": {},
   "outputs": [],
   "source": [
    "list1 = [56,76,34,23,98,12,35,79]"
   ]
  },
  {
   "cell_type": "code",
   "execution_count": 18,
   "id": "7aa61cbc",
   "metadata": {},
   "outputs": [],
   "source": [
    "quicksort(list1,0,len(list1)-1)"
   ]
  },
  {
   "cell_type": "code",
   "execution_count": 19,
   "id": "083d6afb",
   "metadata": {},
   "outputs": [
    {
     "data": {
      "text/plain": [
       "[12, 23, 34, 35, 56, 76, 79, 98]"
      ]
     },
     "execution_count": 19,
     "metadata": {},
     "output_type": "execute_result"
    }
   ],
   "source": [
    "list1"
   ]
  },
  {
   "cell_type": "code",
   "execution_count": null,
   "id": "ba23342b",
   "metadata": {},
   "outputs": [],
   "source": []
  }
 ],
 "metadata": {
  "kernelspec": {
   "display_name": "Python 3",
   "language": "python",
   "name": "python3"
  },
  "language_info": {
   "codemirror_mode": {
    "name": "ipython",
    "version": 3
   },
   "file_extension": ".py",
   "mimetype": "text/x-python",
   "name": "python",
   "nbconvert_exporter": "python",
   "pygments_lexer": "ipython3",
   "version": "3.8.8"
  }
 },
 "nbformat": 4,
 "nbformat_minor": 5
}
