{
 "cells": [
  {
   "cell_type": "code",
   "execution_count": 1,
   "id": "0ba2f69f",
   "metadata": {},
   "outputs": [],
   "source": [
    "import pandas as pd"
   ]
  },
  {
   "cell_type": "code",
   "execution_count": 2,
   "id": "a053d807",
   "metadata": {},
   "outputs": [],
   "source": [
    "list1 = [4,6,7,2,3,1,0,9,65,45,87,43,23,12]"
   ]
  },
  {
   "cell_type": "code",
   "execution_count": 12,
   "id": "9a534098",
   "metadata": {},
   "outputs": [],
   "source": [
    "def mergesort(list1):\n",
    "    if len(list1) > 1:\n",
    "        mid = len(list1)//2\n",
    "        left_list = list1[:mid]\n",
    "        right_list = list1[mid:]\n",
    "        \n",
    "        mergesort(left_list)\n",
    "        mergesort(right_list)\n",
    "        \n",
    "        i = 0\n",
    "        j = 0\n",
    "        k = 0\n",
    "        while i<len(left_list) and j<len(right_list):\n",
    "            if(left_list[i]<right_list[j]):\n",
    "                list1[k]=left_list[i]\n",
    "                i=i+1\n",
    "                k=k+1\n",
    "            else:\n",
    "                list1[k]=right_list[j]\n",
    "                j=j+1\n",
    "                k=k+1\n",
    "        while i < len(left_list):\n",
    "            list1[k] = left_list[i]\n",
    "            k = k+1\n",
    "            i = i+1\n",
    "        while j < len(right_list):\n",
    "            list1[k] = right_list[j]\n",
    "            k=k+1\n",
    "            j=j+1\n",
    "    return(list1)"
   ]
  },
  {
   "cell_type": "code",
   "execution_count": 17,
   "id": "0006fb9f",
   "metadata": {},
   "outputs": [
    {
     "name": "stdout",
     "output_type": "stream",
     "text": [
      "how many elements you want in the list:9\n",
      "3\n",
      "6\n",
      "8\n",
      "0\n",
      "1\n",
      "43\n",
      "54\n",
      "23\n",
      "12\n"
     ]
    }
   ],
   "source": [
    "num = int(input(\"how many elements you want in the list:\"))\n",
    "list1 = [int(input()) for x in range(num)]"
   ]
  },
  {
   "cell_type": "code",
   "execution_count": 18,
   "id": "a3253e43",
   "metadata": {},
   "outputs": [
    {
     "data": {
      "text/plain": [
       "[0, 1, 3, 6, 8, 12, 23, 43, 54]"
      ]
     },
     "execution_count": 18,
     "metadata": {},
     "output_type": "execute_result"
    }
   ],
   "source": [
    "mergesort(list1)"
   ]
  },
  {
   "cell_type": "code",
   "execution_count": null,
   "id": "96448d67",
   "metadata": {},
   "outputs": [],
   "source": []
  }
 ],
 "metadata": {
  "kernelspec": {
   "display_name": "Python 3",
   "language": "python",
   "name": "python3"
  },
  "language_info": {
   "codemirror_mode": {
    "name": "ipython",
    "version": 3
   },
   "file_extension": ".py",
   "mimetype": "text/x-python",
   "name": "python",
   "nbconvert_exporter": "python",
   "pygments_lexer": "ipython3",
   "version": "3.8.8"
  }
 },
 "nbformat": 4,
 "nbformat_minor": 5
}
