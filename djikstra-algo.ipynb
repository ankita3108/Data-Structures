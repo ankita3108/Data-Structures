{
 "cells": [
  {
   "cell_type": "code",
   "execution_count": 29,
   "id": "a013c478",
   "metadata": {},
   "outputs": [],
   "source": [
    "import pandas as pd\n",
    "import sys"
   ]
  },
  {
   "cell_type": "code",
   "execution_count": 30,
   "id": "8a230036",
   "metadata": {},
   "outputs": [],
   "source": [
    "graph = {\n",
    "    'a':{'b':3,'c':4,'d':7},\n",
    "    'b':{'c':1,'f':5},\n",
    "    'c':{'f':6,'d':2},\n",
    "    'd':{'e':3,'g':6},\n",
    "    'e':{'g':3,'h':4},\n",
    "    'f':{'e':1,'h':8},\n",
    "    'g':{'h':2},\n",
    "    'h':{'g':2}\n",
    "}"
   ]
  },
  {
   "cell_type": "code",
   "execution_count": 31,
   "id": "3a14a2b4",
   "metadata": {},
   "outputs": [],
   "source": [
    "def djikstra(graph,start,goal):\n",
    "    shortest_distance = {}\n",
    "    track_predecessor = {}\n",
    "    unseenNodes = graph\n",
    "    infinity = sys.maxsize\n",
    "    track_path = []\n",
    "    \n",
    "    ## Assigning Infinity distance to all edges\n",
    "    for node in unseenNodes:\n",
    "        shortest_distance[node] = infinity\n",
    "    shortest_distance[start] = 0\n",
    "    \n",
    "    while unseenNodes:\n",
    "        \n",
    "        min_distance_node = None\n",
    "        \n",
    "        for node in unseenNodes:\n",
    "            if min_distance_node is None:\n",
    "                min_distance_node = node\n",
    "            elif shortest_distance[node] < shortest_distance[min_distance_node]:\n",
    "                min_distance_node = node\n",
    "        \n",
    "        ## All possible paths from min_distance_node\n",
    "        path_options = graph[min_distance_node].items()\n",
    "        \n",
    "        ## Finding the most optimal path from min_distance node to all possible nodes and track previous node\n",
    "        for child_node, weight in path_options:\n",
    "            if weight + shortest_distance[min_distance_node] < shortest_distance[child_node]:\n",
    "                shortest_distance[child_node] = weight + shortest_distance[min_distance_node]\n",
    "                track_predecessor[child_node] = min_distance_node\n",
    "        \n",
    "        unseenNodes.pop(min_distance_node)\n",
    "    \n",
    "    current_node = goal\n",
    "    while (current_node!= start):\n",
    "        try:\n",
    "            track_path.insert(0,current_node)\n",
    "            current_node = track_predecessor[current_node]\n",
    "        except KeyError:\n",
    "            print(\"Path does not exists\")\n",
    "            break\n",
    "    \n",
    "    track_path.insert(0,start)\n",
    "    \n",
    "    if shortest_distance[goal]!=infinity:\n",
    "        print(\"Shortest distance path: \",str(shortest_distance[goal]))\n",
    "        print(\"Optimal Path is: \", track_path)"
   ]
  },
  {
   "cell_type": "code",
   "execution_count": 32,
   "id": "7b18ce8c",
   "metadata": {},
   "outputs": [
    {
     "name": "stdout",
     "output_type": "stream",
     "text": [
      "Shortest distance path:  13\n",
      "Optimal Path is:  ['a', 'c', 'd', 'e', 'h']\n"
     ]
    }
   ],
   "source": [
    "djikstra(graph,'a','h')"
   ]
  },
  {
   "cell_type": "code",
   "execution_count": null,
   "id": "114335c7",
   "metadata": {},
   "outputs": [],
   "source": []
  }
 ],
 "metadata": {
  "kernelspec": {
   "display_name": "Python 3 (ipykernel)",
   "language": "python",
   "name": "python3"
  },
  "language_info": {
   "codemirror_mode": {
    "name": "ipython",
    "version": 3
   },
   "file_extension": ".py",
   "mimetype": "text/x-python",
   "name": "python",
   "nbconvert_exporter": "python",
   "pygments_lexer": "ipython3",
   "version": "3.9.7"
  }
 },
 "nbformat": 4,
 "nbformat_minor": 5
}
